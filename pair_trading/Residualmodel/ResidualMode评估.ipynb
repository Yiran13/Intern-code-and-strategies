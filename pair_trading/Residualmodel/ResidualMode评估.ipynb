{
 "cells": [
  {
   "cell_type": "code",
   "execution_count": 1,
   "metadata": {},
   "outputs": [],
   "source": [
    "# from ResidualStrategy_simple_dynamic_record import DynamicResidualModelStrategy\n",
    "# from residualstrategy_simple import DynamicResidualModelStrategy\n",
    "from record import DynamicResidualModelStrategy\n",
    "from datetime import datetime\n",
    "from vnpy.app.portfolio_strategy import BacktestingEngine\n",
    "from vnpy.trader.constant import Interval\n",
    "import pandas as pd\n",
    "from pyecharts.charts import (Bar,Line,Graph,Gauge,Page)#柱状图，折线图，关系图，仪表盘,多图同表\n",
    "from pyecharts import options as opts\n",
    "import numpy as np\n",
    "import random\n",
    "import talib"
   ]
  },
  {
   "cell_type": "code",
   "execution_count": null,
   "metadata": {},
   "outputs": [
    {
     "name": "stdout",
     "output_type": "stream",
     "text": [
      "2020-05-14 12:36:04.582504\t开始加载历史数据\n",
      "2020-05-14 12:36:05.320578\tHC888.SHFE加载进度： [2%]\n",
      "2020-05-14 12:36:05.913951\tHC888.SHFE加载进度： [4%]\n",
      "2020-05-14 12:36:06.683892\tHC888.SHFE加载进度： [6%]\n",
      "2020-05-14 12:36:07.449844\tHC888.SHFE加载进度： [8%]\n",
      "2020-05-14 12:36:08.236123\tHC888.SHFE加载进度： [9%]\n",
      "2020-05-14 12:36:08.955199\tHC888.SHFE加载进度：# [11%]\n",
      "2020-05-14 12:36:09.948543\tHC888.SHFE加载进度：# [13%]\n",
      "2020-05-14 12:36:10.879179\tHC888.SHFE加载进度：# [15%]\n",
      "2020-05-14 12:36:11.555337\tHC888.SHFE加载进度：# [17%]\n",
      "2020-05-14 12:36:12.199649\tHC888.SHFE加载进度：# [19%]\n",
      "2020-05-14 12:36:13.165098\tHC888.SHFE加载进度：## [21%]\n",
      "2020-05-14 12:36:14.066656\tHC888.SHFE加载进度：## [23%]\n",
      "2020-05-14 12:36:14.837732\tHC888.SHFE加载进度：## [24%]\n",
      "2020-05-14 12:36:15.418101\tHC888.SHFE加载进度：## [26%]\n",
      "2020-05-14 12:36:16.356375\tHC888.SHFE加载进度：## [28%]\n",
      "2020-05-14 12:36:17.173413\tHC888.SHFE加载进度：### [30%]\n",
      "2020-05-14 12:36:17.727965\tHC888.SHFE加载进度：### [32%]\n",
      "2020-05-14 12:36:18.405324\tHC888.SHFE加载进度：### [34%]\n",
      "2020-05-14 12:36:19.215300\tHC888.SHFE加载进度：### [36%]\n",
      "2020-05-14 12:36:19.750022\tHC888.SHFE加载进度：### [38%]\n",
      "2020-05-14 12:36:20.381613\tHC888.SHFE加载进度：### [39%]\n",
      "2020-05-14 12:36:20.815425\tHC888.SHFE加载进度：#### [41%]\n",
      "2020-05-14 12:36:21.371149\tHC888.SHFE加载进度：#### [43%]\n",
      "2020-05-14 12:36:22.053462\tHC888.SHFE加载进度：#### [45%]\n",
      "2020-05-14 12:36:22.595054\tHC888.SHFE加载进度：#### [47%]\n",
      "2020-05-14 12:36:23.213360\tHC888.SHFE加载进度：#### [49%]\n",
      "2020-05-14 12:36:23.782803\tHC888.SHFE加载进度：##### [51%]\n",
      "2020-05-14 12:36:24.314415\tHC888.SHFE加载进度：##### [53%]\n",
      "2020-05-14 12:36:25.008785\tHC888.SHFE加载进度：##### [55%]\n",
      "2020-05-14 12:36:25.496439\tHC888.SHFE加载进度：##### [56%]\n",
      "2020-05-14 12:36:26.268382\tHC888.SHFE加载进度：##### [58%]\n",
      "2020-05-14 12:36:26.881747\tHC888.SHFE加载进度：###### [60%]\n",
      "2020-05-14 12:36:27.511090\tHC888.SHFE加载进度：###### [62%]\n",
      "2020-05-14 12:36:28.083485\tHC888.SHFE加载进度：###### [64%]\n",
      "2020-05-14 12:36:28.667028\tHC888.SHFE加载进度：###### [66%]\n",
      "2020-05-14 12:36:29.228524\tHC888.SHFE加载进度：###### [68%]\n",
      "2020-05-14 12:36:29.912585\tHC888.SHFE加载进度：###### [70%]\n",
      "2020-05-14 12:36:30.452177\tHC888.SHFE加载进度：####### [71%]\n",
      "2020-05-14 12:36:30.872127\tHC888.SHFE加载进度：####### [73%]\n",
      "2020-05-14 12:36:31.562283\tHC888.SHFE加载进度：####### [75%]\n",
      "2020-05-14 12:36:32.050982\tHC888.SHFE加载进度：####### [77%]\n",
      "2020-05-14 12:36:32.615466\tHC888.SHFE加载进度：####### [79%]\n",
      "2020-05-14 12:36:33.350503\tHC888.SHFE加载进度：######## [81%]\n",
      "2020-05-14 12:36:33.898201\tHC888.SHFE加载进度：######## [83%]\n",
      "2020-05-14 12:36:34.498671\tHC888.SHFE加载进度：######## [85%]\n",
      "2020-05-14 12:36:35.147967\tHC888.SHFE加载进度：######## [87%]\n",
      "2020-05-14 12:36:35.756376\tHC888.SHFE加载进度：######## [88%]\n",
      "2020-05-14 12:36:36.316846\tHC888.SHFE加载进度：######### [90%]\n",
      "2020-05-14 12:36:36.876312\tHC888.SHFE加载进度：######### [92%]\n",
      "2020-05-14 12:36:37.690209\tHC888.SHFE加载进度：######### [94%]\n",
      "2020-05-14 12:36:38.201802\tHC888.SHFE加载进度：######### [96%]\n",
      "2020-05-14 12:36:38.720415\tHC888.SHFE加载进度：######### [98%]\n",
      "2020-05-14 12:36:39.223070\tHC888.SHFE加载进度：######### [100%]\n",
      "2020-05-14 12:36:39.299865\tHC888.SHFE加载进度：########## [100%]\n",
      "2020-05-14 12:36:39.299865\tHC888.SHFE历史数据加载完成，数据量：399705\n",
      "2020-05-14 12:36:40.254142\tRB888.SHFE加载进度： [2%]\n",
      "2020-05-14 12:36:40.823774\tRB888.SHFE加载进度： [4%]\n",
      "2020-05-14 12:36:41.585736\tRB888.SHFE加载进度： [6%]\n",
      "2020-05-14 12:36:42.588056\tRB888.SHFE加载进度： [8%]\n",
      "2020-05-14 12:36:43.304105\tRB888.SHFE加载进度： [9%]\n",
      "2020-05-14 12:36:43.960346\tRB888.SHFE加载进度：# [11%]\n",
      "2020-05-14 12:36:44.993734\tRB888.SHFE加载进度：# [13%]\n",
      "2020-05-14 12:36:45.760648\tRB888.SHFE加载进度：# [15%]\n",
      "2020-05-14 12:36:46.674205\tRB888.SHFE加载进度：# [17%]\n",
      "2020-05-14 12:36:47.302524\tRB888.SHFE加载进度：# [19%]\n",
      "2020-05-14 12:36:48.081619\tRB888.SHFE加载进度：## [21%]\n",
      "2020-05-14 12:36:48.863494\tRB888.SHFE加载进度：## [23%]\n",
      "2020-05-14 12:36:49.842909\tRB888.SHFE加载进度：## [24%]\n",
      "2020-05-14 12:36:50.420365\tRB888.SHFE加载进度：## [26%]\n",
      "2020-05-14 12:36:51.198245\tRB888.SHFE加载进度：## [28%]\n",
      "2020-05-14 12:36:51.881617\tRB888.SHFE加载进度：### [30%]\n",
      "2020-05-14 12:36:52.854122\tRB888.SHFE加载进度：### [32%]\n",
      "2020-05-14 12:36:53.368032\tRB888.SHFE加载进度：### [34%]\n",
      "2020-05-14 12:36:53.939464\tRB888.SHFE加载进度：### [36%]\n",
      "2020-05-14 12:36:54.461230\tRB888.SHFE加载进度：### [38%]\n",
      "2020-05-14 12:36:55.287021\tRB888.SHFE加载进度：### [39%]\n",
      "2020-05-14 12:36:55.723897\tRB888.SHFE加载进度：#### [41%]\n",
      "2020-05-14 12:36:56.266444\tRB888.SHFE加载进度：#### [43%]\n",
      "2020-05-14 12:36:56.814113\tRB888.SHFE加载进度：#### [45%]\n",
      "2020-05-14 12:36:57.355792\tRB888.SHFE加载进度：#### [47%]\n",
      "2020-05-14 12:36:57.790705\tRB888.SHFE加载进度：#### [49%]\n",
      "2020-05-14 12:36:58.642429\tRB888.SHFE加载进度：##### [51%]\n",
      "2020-05-14 12:36:59.155019\tRB888.SHFE加载进度：##### [53%]\n",
      "2020-05-14 12:36:59.696567\tRB888.SHFE加载进度：##### [55%]\n",
      "2020-05-14 12:37:00.184266\tRB888.SHFE加载进度：##### [56%]\n",
      "2020-05-14 12:37:00.725855\tRB888.SHFE加载进度：##### [58%]\n",
      "2020-05-14 12:37:01.646316\tRB888.SHFE加载进度：###### [60%]\n",
      "2020-05-14 12:37:02.212837\tRB888.SHFE加载进度：###### [62%]\n",
      "2020-05-14 12:37:02.599845\tRB888.SHFE加载进度：###### [64%]\n",
      "2020-05-14 12:37:03.165290\tRB888.SHFE加载进度：###### [66%]\n",
      "2020-05-14 12:37:03.730914\tRB888.SHFE加载进度：###### [68%]\n",
      "2020-05-14 12:37:04.244539\tRB888.SHFE加载进度：###### [70%]\n",
      "2020-05-14 12:37:05.145130\tRB888.SHFE加载进度：####### [71%]\n",
      "2020-05-14 12:37:05.620860\tRB888.SHFE加载进度：####### [73%]\n",
      "2020-05-14 12:37:06.127503\tRB888.SHFE加载进度：####### [75%]\n",
      "2020-05-14 12:37:06.584287\tRB888.SHFE加载进度：####### [77%]\n",
      "2020-05-14 12:37:07.146857\tRB888.SHFE加载进度：####### [79%]\n",
      "2020-05-14 12:37:07.691436\tRB888.SHFE加载进度：######## [81%]\n"
     ]
    }
   ],
   "source": [
    "engine = BacktestingEngine()\n",
    "engine.clear_data()\n",
    "\n",
    "engine.set_parameters(\n",
    "    vt_symbols=[\"HC888.SHFE\", 'RB888.SHFE'],\n",
    "    interval=Interval.MINUTE,\n",
    "    start=datetime(2014, 12, 31),\n",
    "    end=datetime(2019, 5, 14),\n",
    "    rates={\"HC888.SHFE\": 5/10000, \"RB888.SHFE\": 5/10000},\n",
    "    slippages={\"HC888.SHFE\":2, \"RB888.SHFE\":1},\n",
    "    sizes={\"HC888.SHFE\":10, \"RB888.SHFE\":10},\n",
    "    priceticks={\"HC888.SHFE\":2, \"RB888.SHFE\":1},\n",
    "    capital=1_000_0,\n",
    "    collection_names={\"HC888.SHFE\":\"HC888\", \"RB888.SHFE\":\"RB888\"}\n",
    "\n",
    ")\n",
    "engine.add_strategy(DynamicResidualModelStrategy, {'price_add':20})\n",
    "engine.load_data()\n",
    "engine.run_backtesting()\n",
    "df = engine.calculate_result()\n",
    "engine.calculate_statistics()\n",
    "# \n",
    "\n"
   ]
  },
  {
   "cell_type": "code",
   "execution_count": null,
   "metadata": {},
   "outputs": [],
   "source": [
    "record_array = engine.strategy.spread_record\n",
    "datetime_array = engine.strategy.datetime_record"
   ]
  },
  {
   "cell_type": "code",
   "execution_count": null,
   "metadata": {},
   "outputs": [],
   "source": [
    "# mean = talib.SMA(np.array(record_array),240*30).tolist()\n",
    "mean = (talib.SMA(np.array(record_array),240*30))\n",
    "std= np.sqrt(talib.VAR(np.array(record_array),240*30))\n",
    "boll_up = list(mean + 3*std)\n",
    "boll_down = list(mean - 3*std)\n",
    "\n",
    "\n",
    "x = datetime_array\n",
    "(\n",
    "    Line()\n",
    "    .add_xaxis(x)\n",
    "    .add_yaxis(\n",
    "        \"上轨\",\n",
    "        boll_up\n",
    "    )    .add_yaxis(\n",
    "        \"实际价差\",\n",
    "        y\n",
    "    ) .add_yaxis(\n",
    "        \"下轨\",\n",
    "        boll_down\n",
    "    )\n",
    "    .set_global_opts(title_opts=opts.TitleOpts(title=\"\"))\n",
    "    .render_notebook())"
   ]
  },
  {
   "cell_type": "code",
   "execution_count": null,
   "metadata": {},
   "outputs": [],
   "source": [
    "ind=-1\n",
    "# 5年的实际价差\n",
    "x, y = datetime_array[:ind], record_array[:ind]\n",
    "(\n",
    "    Line()\n",
    "    .add_xaxis(x)\n",
    "    .add_yaxis(\n",
    "        \"实际价差\",\n",
    "        y\n",
    "    )\n",
    "    .set_global_opts(title_opts=opts.TitleOpts(title=\"\"))\n",
    "    .render_notebook())"
   ]
  },
  {
   "cell_type": "code",
   "execution_count": null,
   "metadata": {},
   "outputs": [],
   "source": [
    "same_direction_symbol= engine.strategy.y_symbol.split('.')[0]\n",
    "inverse_direction_symbol= engine.strategy.x_symbol.split('.')[0]\n",
    "\n",
    "datetime_list = []\n",
    "direction_list = []\n",
    "offset_list = []\n",
    "volume_list = []\n",
    "price_list = []\n",
    "for order in engine.strategy.orders.values():\n",
    "\n",
    "     \n",
    "    if order.symbol == same_direction_symbol:\n",
    "        datetime = order.datetime\n",
    "        direction = order.direction.value\n",
    "        offset = order.offset.value\n",
    "        volume = order.volume\n",
    "        price = order.price\n",
    "        \n",
    "        datetime_list.append(datetime)\n",
    "        direction_list.append(direction)\n",
    "        offset_list.append(offset)\n",
    "        volume_list.append(volume)\n",
    "        price_list.append(price)\n",
    "        \n",
    "same_direction_order_df = pd.DataFrame({'datetime':datetime_list,'direction':direction_list,'offset':offset_list,'volume':volume_list,'price':price_list})\n",
    "same_direction_order_df['symbol'] = same_direction_symbol\n"
   ]
  },
  {
   "cell_type": "code",
   "execution_count": null,
   "metadata": {},
   "outputs": [],
   "source": [
    "datetime_list = []\n",
    "direction_list = []\n",
    "offset_list = []\n",
    "volume_list = []\n",
    "price_list = []\n",
    "for order in engine.strategy.orders.values():\n",
    "\n",
    "     \n",
    "    if order.symbol == inverse_direction_symbol:\n",
    "        datetime = order.datetime\n",
    "        direction = order.direction.value\n",
    "        offset = order.offset.value\n",
    "        volume = order.volume\n",
    "        price = order.price\n",
    "        \n",
    "        datetime_list.append(datetime)\n",
    "        direction_list.append(direction)\n",
    "        offset_list.append(offset)\n",
    "        volume_list.append(volume)\n",
    "        price_list.append(price)\n",
    "        \n",
    "inverse_direction_order_df = pd.DataFrame({'datetime':datetime_list,'direction':direction_list,'offset':offset_list,'volume':volume_list,'price':price_list})\n",
    "inverse_direction_order_df['symbol'] = same_direction_symbol"
   ]
  },
  {
   "cell_type": "code",
   "execution_count": null,
   "metadata": {},
   "outputs": [],
   "source": [
    "combine_order_df = pd.merge(left=same_direction_order_df,right=inverse_direction_order_df,left_on=['datetime','offset'],right_on=['datetime','offset'],suffixes=('_y', '_x'))\n",
    "combine_order_df"
   ]
  },
  {
   "cell_type": "code",
   "execution_count": null,
   "metadata": {},
   "outputs": [],
   "source": [
    "orders_analyze_df"
   ]
  },
  {
   "cell_type": "code",
   "execution_count": null,
   "metadata": {},
   "outputs": [],
   "source": [
    "\n",
    "\n",
    "if combine_order_df.shape[0] % 2 != 0 :\n",
    "    \n",
    "    order_num = (combine_order_df.shape[0] -1)\n",
    "else:\n",
    "    order_num = combine_order_df.shape[0]\n",
    "\n",
    "start_ind = np.arange(0,order_num,2)\n",
    "end_ind = start_ind + 1\n",
    "\n",
    "orders_analyze_df = pd.DataFrame({},columns=['open_date','close_date','direction','open_spread','close_spread','y_profit','x_profit'])\n",
    "for ind in np.arange(start_ind.shape[0]):   \n",
    "    one_order_df = combine_order_df.iloc[start_ind[ind]:end_ind[ind]+1]\n",
    "    if one_order_df.iloc[0,1] == '多':\n",
    "        \n",
    "        y_profit = one_order_df['price_y'].diff().iloc[-1]*one_order_df['volume_y'].iloc[0]\n",
    "        x_profit = -one_order_df['price_x'].diff().iloc[-1]*one_order_df['volume_x'].iloc[0]\n",
    "    \n",
    "    else:\n",
    "        y_profit = -one_order_df['price_y'].diff()*one_order_df['volume_y'].iloc[0]\n",
    "        x_profit = one_order_df['price_x'].diff()*one_order_df['volume_x'].iloc[0]\n",
    "    \n",
    "    start_spread = one_order_df['price_y'].iloc[0]*one_order_df['volume_y'].iloc[0]-one_order_df['price_x'].iloc[0]*one_order_df['volume_x'].iloc[0]\n",
    "    close_spread = one_order_df['price_y'].iloc[1]*one_order_df['volume_y'].iloc[1]-one_order_df['price_x'].iloc[1]*one_order_df['volume_x'].iloc[1]\n",
    "    \n",
    "    \n",
    "    start_datetime = one_order_df['datetime'].iloc[0]\n",
    "    end_datetime = one_order_df['datetime'].iloc[1]\n",
    "    direction = one_order_df['direction_y'].iloc[0]\n",
    "    orders_analyze_df = orders_analyze_df.append({'open_date':start_datetime,'close_date':end_datetime,\n",
    "                                                  'direction':direction,\n",
    "                                                  'open_spread':start_spread,\n",
    "                                                  'close_spread':close_spread,\n",
    "                                                  'y_profit':y_profit,\n",
    "                                                  'x_profit':x_profit},ignore_index=True)\n",
    "    \n",
    "\n",
    "\n",
    "orders_analyze_df['total_profit'] = (orders_analyze_df['y_profit']+orders_analyze_df['x_profit'])*np.where(orders_analyze_df['direction']=='多',1,-1)"
   ]
  },
  {
   "cell_type": "code",
   "execution_count": null,
   "metadata": {},
   "outputs": [],
   "source": [
    "one_order_df"
   ]
  },
  {
   "cell_type": "code",
   "execution_count": null,
   "metadata": {},
   "outputs": [],
   "source": [
    "same_direction_symbol= engine.strategy.y_symbol.split('.')[0]\n",
    "inverse_direction_symbol= engine.strategy.x_symbol.split('.')[0]"
   ]
  },
  {
   "cell_type": "code",
   "execution_count": null,
   "metadata": {},
   "outputs": [],
   "source": [
    "datetime_list = []\n",
    "direction_list = []\n",
    "offset_list = []\n",
    "volume_list = []\n",
    "price_list = []\n",
    "for trade in engine.trades.values():\n",
    "\n",
    "    if trade.symbol == same_direction_symbol:\n",
    "        datetime = trade.datetime\n",
    "        direction = trade.direction.value\n",
    "        offset = trade.offset.value\n",
    "        volume = trade.volume\n",
    "        price = trade.price\n",
    "        \n",
    "        datetime_list.append(datetime)\n",
    "        direction_list.append(direction)\n",
    "        offset_list.append(offset)\n",
    "        volume_list.append(volume)\n",
    "        price_list.append(price)\n",
    "    same_direction_df = pd.DataFrame({'datetime':datetime_list,'direction':direction_list,'offset':offset_list,'volume':volume_list,'price':price_list})\n",
    "    same_direction_df['symbol'] = same_direction_symbol"
   ]
  },
  {
   "cell_type": "code",
   "execution_count": null,
   "metadata": {},
   "outputs": [],
   "source": [
    "datetime_list = []\n",
    "direction_list = []\n",
    "offset_list = []\n",
    "volume_list = []\n",
    "price_list = []\n",
    "for trade in engine.trades.values():  \n",
    "    if trade.symbol == inverse_direction_symbol:\n",
    "        \n",
    "        datetime = trade.datetime\n",
    "        direction = trade.direction.value\n",
    "        offset = trade.offset.value\n",
    "        volume = trade.volume\n",
    "        price = trade.price\n",
    "       \n",
    "        datetime_list.append(datetime)\n",
    "        direction_list.append(direction)\n",
    "        offset_list.append(offset)\n",
    "        volume_list.append(volume)\n",
    "        price_list.append(price)\n",
    "        \n",
    "    inverse_direction_df = pd.DataFrame({'datetime':datetime_list,'direction':direction_list,'offset':offset_list,'volume':volume_list,'price':price_list})\n",
    "    inverse_direction_df['symbol'] = inverse_direction_symbol"
   ]
  },
  {
   "cell_type": "code",
   "execution_count": null,
   "metadata": {},
   "outputs": [],
   "source": [
    "combine_trade_df = pd.merge(left=same_direction_df,right=inverse_direction_df,left_on=['datetime','offset'],right_on=['datetime','offset'],suffixes=('_y', '_x'))\n",
    "\n",
    "if combine_trade_df.shape[0] % 2 != 0 :\n",
    "    \n",
    "    traded_num = (combine_trade_df.shape[0] -1)\n",
    "else:\n",
    "    traded_num = combine_trade_df.shape[0]\n",
    "\n",
    "start_ind = np.arange(0,traded_num,2)\n",
    "end_ind = start_ind + 1\n",
    "\n",
    "trades_analyze_df = pd.DataFrame({},columns=['open_date','close_date','direction','open_spread','close_spread','y_profit','x_profit'])\n",
    "for ind in np.arange(start_ind.shape[0]):   \n",
    "    one_trade_df = combine_trade_df.iloc[start_ind[ind]:end_ind[ind]+1]\n",
    "    if one_trade_df.iloc[0,1] == '多':\n",
    "        \n",
    "        y_profit = one_trade_df['price_y'].diff().iloc[-1]*one_trade_df['volume_y'].iloc[0]\n",
    "        x_profit = -one_trade_df['price_x'].diff().iloc[-1]*one_trade_df['volume_x'].iloc[0]\n",
    "    \n",
    "    else:\n",
    "        y_profit = -one_trade_df['price_y'].diff()*one_trade_df['volume_y'].iloc[0]\n",
    "        x_profit = one_trade_df['price_x'].diff()*one_trade_df['volume_x'].iloc[0]\n",
    "    start_spread = one_trade_df['price_y'].iloc[0]*one_trade_df['volume_y'].iloc[0]-one_trade_df['price_x'].iloc[0]*one_trade_df['volume_x'].iloc[0]\n",
    "    close_spread = one_trade_df['price_y'].iloc[1]*one_trade_df['volume_y'].iloc[1]-one_trade_df['price_x'].iloc[1]*one_trade_df['volume_x'].iloc[1]\n",
    "    start_datetime = one_trade_df['datetime'].iloc[0]\n",
    "    end_datetime = one_trade_df['datetime'].iloc[1]\n",
    "    direction = one_trade_df['direction_y'].iloc[0]\n",
    "    trades_analyze_df = trades_analyze_df.append({'open_date':start_datetime,'close_date':end_datetime,\n",
    "                                                  'direction':direction,\n",
    "                                                  'open_spread':start_spread,\n",
    "                                                  'close_spread':close_spread,\n",
    "                                                  'y_profit':y_profit,\n",
    "                                                  'x_profit':x_profit},ignore_index=True)\n",
    "    \n",
    "\n",
    "\n",
    "trades_analyze_df['total_profit'] = (trades_analyze_df['y_profit']+trades_analyze_df['x_profit'])*np.where(trades_analyze_df['direction']=='多',1,-1)"
   ]
  },
  {
   "cell_type": "code",
   "execution_count": null,
   "metadata": {},
   "outputs": [],
   "source": [
    "trades_analyze_df"
   ]
  },
  {
   "cell_type": "code",
   "execution_count": null,
   "metadata": {},
   "outputs": [],
   "source": [
    "combine_trade_df"
   ]
  },
  {
   "cell_type": "code",
   "execution_count": null,
   "metadata": {},
   "outputs": [],
   "source": [
    "from residualstrategy_simple_with_moving_exit import DynamicResidualModelStrategy\n",
    "engine = BacktestingEngine()\n",
    "\n",
    "engine.set_parameters(\n",
    "    vt_symbols=[\"HC888.SHFE\", 'RB888.SHFE'],\n",
    "    interval=Interval.MINUTE,\n",
    "    start=datetime(2018, 12, 31),\n",
    "    end=datetime(2019, 3, 30),\n",
    "    rates={\"HC888.SHFE\": 5/10000, \"RB888.SHFE\": 5/10000},\n",
    "    slippages={\"HC888.SHFE\":2, \"RB888.SHFE\":1},\n",
    "    sizes={\"HC888.SHFE\":10, \"RB888.SHFE\":10},\n",
    "    priceticks={\"HC888.SHFE\":2, \"RB888.SHFE\":1},\n",
    "    capital=1_000_0,\n",
    "    collection_names={\"HC888.SHFE\":\"HC888\", \"RB888.SHFE\":\"RB888\"}\n",
    "\n",
    ")\n",
    "engine.add_strategy(DynamicResidualModelStrategy, {})\n",
    "engine.load_data()\n",
    "engine.run_backtesting()\n",
    "df = engine.calculate_result()\n",
    "engine.calculate_statistics()\n",
    "# "
   ]
  },
  {
   "cell_type": "code",
   "execution_count": null,
   "metadata": {},
   "outputs": [],
   "source": [
    "combine_trade_df"
   ]
  },
  {
   "cell_type": "code",
   "execution_count": null,
   "metadata": {},
   "outputs": [],
   "source": [
    "combine_trade_df = pd.merge(left=same_direction_df,right=inverse_direction_df,left_on=['datetime','offset'],right_on=['datetime','offset'],suffixes=('_y', '_x'))\n",
    "\n",
    "if combine_trade_df.shape[0] % 2 != 0 :\n",
    "    \n",
    "    traded_num = (combine_trade_df.shape[0] -1)\n",
    "else:\n",
    "    traded_num = combine_trade_df.shape[0]\n",
    "\n",
    "start_ind = np.arange(0,traded_num,2)\n",
    "end_ind = start_ind + 1\n",
    "\n",
    "trades_analyze_df = pd.DataFrame({},columns=['open_date','close_date','direction','open_spread','close_spread','y_profit','x_profit'])\n",
    "for ind in np.arange(start_ind.shape[0]):   \n",
    "    one_trade_df = combine_trade_df.iloc[start_ind[ind]:end_ind[ind]+1]\n",
    "    if one_trade_df.iloc[0,1] == '多':\n",
    "        \n",
    "        y_profit = one_trade_df['price_y'].diff().iloc[-1]*one_trade_df['volume_y'].iloc[0]\n",
    "        x_profit = -one_trade_df['price_x'].diff().iloc[-1]*one_trade_df['volume_x'].iloc[0]\n",
    "    \n",
    "    else:\n",
    "        y_profit = -one_trade_df['price_y'].diff()*one_trade_df['volume_y'].iloc[0]\n",
    "        x_profit = one_trade_df['price_x'].diff()*one_trade_df['volume_x'].iloc[0]\n",
    "    start_spread = one_trade_df['price_y'].iloc[0]*one_trade_df['volume_y'].iloc[0]-one_trade_df['price_x'].iloc[0]*one_trade_df['volume_x'].iloc[0]\n",
    "    close_spread = one_trade_df['price_y'].iloc[1]*one_trade_df['volume_y'].iloc[1]-one_trade_df['price_x'].iloc[1]*one_trade_df['volume_x'].iloc[0]\n",
    "    start_datetime = one_trade_df['datetime'].iloc[0]\n",
    "    end_datetime = one_trade_df['datetime'].iloc[1]\n",
    "    direction = one_trade_df['direction_y'].iloc[0]\n",
    "    trades_analyze_df = trades_analyze_df.append({'open_date':start_datetime,'close_date':end_datetime,\n",
    "                                                  'direction':direction,\n",
    "                                                  'open_spread':start_spread,\n",
    "                                                  'close_spread':close_spread,\n",
    "                                                  'y_profit':y_profit,\n",
    "                                                  'x_profit':x_profit},ignore_index=True)\n",
    "    \n",
    "\n",
    "\n",
    "trades_analyze_df['total_profit'] = (trades_analyze_df['y_profit']+trades_analyze_df['x_profit'])*np.where(trades_analyze_df['direction']=='多',1,-1)"
   ]
  },
  {
   "cell_type": "code",
   "execution_count": null,
   "metadata": {},
   "outputs": [],
   "source": [
    "trades_analyze_df"
   ]
  },
  {
   "cell_type": "code",
   "execution_count": null,
   "metadata": {},
   "outputs": [],
   "source": [
    "combine_trade_df"
   ]
  },
  {
   "cell_type": "code",
   "execution_count": null,
   "metadata": {},
   "outputs": [],
   "source": []
  },
  {
   "cell_type": "code",
   "execution_count": null,
   "metadata": {},
   "outputs": [],
   "source": [
    "spread_datetime_list = engine.strategy.record_array\n",
    "boll_up_datetime_list = engine.strategy.record_boll_up\n",
    "boll_down_datetime_list = engine.strategy.record_boll_down\n",
    "\n",
    "\n",
    "datetime_list = [ spread_datetime[0] for spread_datetime in spread_datetime_list]\n",
    "spread_list = [ spread_datetime[1] for spread_datetime in spread_datetime_list]\n",
    "diff_list = [ spread_datetime[2] for spread_datetime in spread_datetime_list]\n",
    "\n",
    "datetime_boll_up_list = [ boll_up_datetime[0] for boll_up_datetime in boll_up_datetime_list]\n",
    "boll_up_list = [  boll_up_datetime[1] for boll_up_datetime in boll_up_datetime_list]\n",
    "\n",
    "datetime_boll_down_list = [ boll_down_datetime[0] for boll_down_datetime in boll_down_datetime_list]\n",
    "boll_down_list = [  boll_down_datetime[1] for boll_down_datetime in boll_down_datetime_list]"
   ]
  },
  {
   "cell_type": "code",
   "execution_count": null,
   "metadata": {},
   "outputs": [],
   "source": [
    "value_df = pd.DataFrame({'datetime':datetime_list,'residual':spread_list,'diff':diff_list})\n",
    "boll_df = pd.DataFrame({'datetime':datetime_boll_up_list,'boll_up':boll_up_list,'boll_down':boll_down_list})\n",
    "# value_df.set_index('datetime',inplace=True)"
   ]
  },
  {
   "cell_type": "code",
   "execution_count": null,
   "metadata": {},
   "outputs": [],
   "source": [
    "combine_df = pd.merge(left=value_df,right=boll_df)\n",
    "combine_df = combine_df.iloc[10*240:]"
   ]
  },
  {
   "cell_type": "code",
   "execution_count": null,
   "metadata": {},
   "outputs": [],
   "source": [
    "combine_df.loc[combine_df['residual']>combine_df['boll_up']]"
   ]
  },
  {
   "cell_type": "code",
   "execution_count": null,
   "metadata": {},
   "outputs": [],
   "source": [
    "combine_df.loc[combine_df['residual']<combine_df['boll_down']]"
   ]
  },
  {
   "cell_type": "code",
   "execution_count": null,
   "metadata": {},
   "outputs": [],
   "source": [
    "bar_1 = Line()\n",
    "\n",
    "start = 0\n",
    "end = 20000\n",
    "# 以时间作为x轴\n",
    "bar_1.add_xaxis(combine_df['datetime'].tolist()[start:end],)\n",
    "# y轴数据字符串表示，y轴数据list\n",
    "bar_1.add_yaxis('OLS_residual',combine_df['residual'].tolist()[start:end])\n",
    "bar_1.add_yaxis('boll_up',combine_df['boll_up'].tolist()[start:end])\n",
    "bar_1.add_yaxis('boll_down',combine_df['boll_down'].tolist()[start:end])\n",
    "bar_1.set_series_opts(label_opts=opts.LabelOpts(is_show=False))  \n",
    "bar_1.render_notebook()"
   ]
  },
  {
   "cell_type": "code",
   "execution_count": null,
   "metadata": {},
   "outputs": [],
   "source": [
    "bar_1 = Line()\n",
    "\n",
    "start = 20000\n",
    "end = 40000\n",
    "# 以时间作为x轴\n",
    "bar_1.add_xaxis(combine_df['datetime'].tolist()[start:end],)\n",
    "# y轴数据字符串表示，y轴数据list\n",
    "bar_1.add_yaxis('OLS_residual',combine_df['residual'].tolist()[start:end])\n",
    "bar_1.add_yaxis('boll_up',combine_df['boll_up'].tolist()[start:end])\n",
    "bar_1.add_yaxis('boll_down',combine_df['boll_down'].tolist()[start:end])\n",
    "bar_1.set_series_opts(label_opts=opts.LabelOpts(is_show=False))  \n",
    "bar_1.render_notebook()"
   ]
  },
  {
   "cell_type": "code",
   "execution_count": null,
   "metadata": {},
   "outputs": [],
   "source": [
    "bar_1 = Line()\n",
    "\n",
    "start = 40000\n",
    "end = 60000\n",
    "# 以时间作为x轴\n",
    "bar_1.add_xaxis(combine_df['datetime'].tolist()[start:end],)\n",
    "# y轴数据字符串表示，y轴数据list\n",
    "bar_1.add_yaxis('OLS_residual',combine_df['residual'].tolist()[start:end])\n",
    "bar_1.add_yaxis('boll_up',combine_df['boll_up'].tolist()[start:end])\n",
    "bar_1.add_yaxis('boll_down',combine_df['boll_down'].tolist()[start:end])\n",
    "bar_1.set_series_opts(label_opts=opts.LabelOpts(is_show=False))  \n",
    "bar_1.render_notebook()"
   ]
  },
  {
   "cell_type": "code",
   "execution_count": null,
   "metadata": {},
   "outputs": [],
   "source": [
    "bar_1 = Line()\n",
    "\n",
    "start = 2000\n",
    "end = 2300\n",
    "# 以时间作为x轴\n",
    "bar_1.add_xaxis(combine_df['datetime'].tolist()[start:end],)\n",
    "# y轴数据字符串表示，y轴数据list\n",
    "bar_1.add_yaxis('diff',combine_df['diff'].tolist()[start:end])\n",
    "bar_1.set_series_opts(label_opts=opts.LabelOpts(is_show=False))  \n",
    "bar_1.render_notebook()\n"
   ]
  },
  {
   "cell_type": "code",
   "execution_count": null,
   "metadata": {},
   "outputs": [],
   "source": [
    "combine_df['diff'].iloc[2500:3000].plot()"
   ]
  },
  {
   "cell_type": "code",
   "execution_count": null,
   "metadata": {},
   "outputs": [],
   "source": [
    "import statsmodels.tsa.stattools as ts\n",
    "import statsmodels.api as sm"
   ]
  },
  {
   "cell_type": "code",
   "execution_count": null,
   "metadata": {},
   "outputs": [],
   "source": [
    "X = combine_df['residual']\n",
    "\n",
    "y = combine_df['diff']\n",
    "\n",
    "result = sm.OLS(y,X).fit()\n"
   ]
  },
  {
   "cell_type": "code",
   "execution_count": null,
   "metadata": {},
   "outputs": [],
   "source": [
    "result.params"
   ]
  },
  {
   "cell_type": "code",
   "execution_count": null,
   "metadata": {},
   "outputs": [],
   "source": [
    "engine.__dict__"
   ]
  },
  {
   "cell_type": "code",
   "execution_count": null,
   "metadata": {},
   "outputs": [],
   "source": []
  }
 ],
 "metadata": {
  "kernelspec": {
   "display_name": "Python 3",
   "language": "python",
   "name": "python3"
  },
  "language_info": {
   "codemirror_mode": {
    "name": "ipython",
    "version": 3
   },
   "file_extension": ".py",
   "mimetype": "text/x-python",
   "name": "python",
   "nbconvert_exporter": "python",
   "pygments_lexer": "ipython3",
   "version": "3.7.1"
  }
 },
 "nbformat": 4,
 "nbformat_minor": 2
}
